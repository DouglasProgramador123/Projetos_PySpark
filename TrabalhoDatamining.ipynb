{
  "nbformat": 4,
  "nbformat_minor": 0,
  "metadata": {
    "colab": {
      "provenance": [],
      "collapsed_sections": []
    },
    "kernelspec": {
      "name": "python3",
      "display_name": "Python 3"
    },
    "language_info": {
      "name": "python"
    }
  },
  "cells": [
    {
      "cell_type": "code",
      "source": [
        "# instalar as dependências\n",
        "!apt-get install openjdk-8-jdk-headless -qq > /dev/null\n",
        "!wget -q https://archive.apache.org/dist/spark/spark-3.3.0/spark-3.3.0-bin-hadoop2.tgz \n",
        "!tar xf spark-3.3.0-bin-hadoop2.tgz"
      ],
      "metadata": {
        "id": "AI5yIBj1_WXh"
      },
      "execution_count": null,
      "outputs": []
    },
    {
      "cell_type": "code",
      "source": [
        "# configurar as variáveis de ambiente e o Spark\n",
        "import os\n",
        "\n",
        "os.environ[\"JAVA_HOME\"] = \"/usr/lib/jvm/java-8-openjdk-amd64\"\n",
        "os.environ[\"SPARK_HOME\"] = \"/content/spark-3.3.0-bin-hadoop2.tgz\""
      ],
      "metadata": {
        "id": "vgBiW1Aq_anm"
      },
      "execution_count": null,
      "outputs": []
    },
    {
      "cell_type": "code",
      "source": [
        "!pip install -q findspark\n",
        "\n",
        "# tornar o pyspark \"importável\"\n",
        "import findspark\n",
        "findspark.init('spark-3.3.0-bin-hadoop2')"
      ],
      "metadata": {
        "id": "IoJzDS14_auJ"
      },
      "execution_count": null,
      "outputs": []
    },
    {
      "cell_type": "code",
      "source": [
        "# iniciar uma sessão local\n",
        "from pyspark.sql import SparkSession,SQLContext\n",
        "import matplotlib.pyplot as plt\n",
        "\n",
        "spark = SparkSession.builder.master(\"local[*]\").appName(\"DadosOlist\").getOrCreate()"
      ],
      "metadata": {
        "id": "yAle-NaY_YOY"
      },
      "execution_count": null,
      "outputs": []
    },
    {
      "cell_type": "code",
      "source": [
        "#Puxando planilhas diretamente da kaggle\n",
        "from google.colab import files\n",
        "files.upload()#Escolha o seu Kaggle.json (https://www.kaggle.com/discussions/general/74235)"
      ],
      "metadata": {
        "colab": {
          "base_uri": "https://localhost:8080/",
          "height": 90
        },
        "id": "F8qgD7aJ7M7d",
        "outputId": "e333f5e9-422d-425f-b266-23236bae23fe"
      },
      "execution_count": null,
      "outputs": [
        {
          "output_type": "display_data",
          "data": {
            "text/plain": [
              "<IPython.core.display.HTML object>"
            ],
            "text/html": [
              "\n",
              "     <input type=\"file\" id=\"files-c7546618-90c5-4f66-b7bf-a03b47399218\" name=\"files[]\" multiple disabled\n",
              "        style=\"border:none\" />\n",
              "     <output id=\"result-c7546618-90c5-4f66-b7bf-a03b47399218\">\n",
              "      Upload widget is only available when the cell has been executed in the\n",
              "      current browser session. Please rerun this cell to enable.\n",
              "      </output>\n",
              "      <script>// Copyright 2017 Google LLC\n",
              "//\n",
              "// Licensed under the Apache License, Version 2.0 (the \"License\");\n",
              "// you may not use this file except in compliance with the License.\n",
              "// You may obtain a copy of the License at\n",
              "//\n",
              "//      http://www.apache.org/licenses/LICENSE-2.0\n",
              "//\n",
              "// Unless required by applicable law or agreed to in writing, software\n",
              "// distributed under the License is distributed on an \"AS IS\" BASIS,\n",
              "// WITHOUT WARRANTIES OR CONDITIONS OF ANY KIND, either express or implied.\n",
              "// See the License for the specific language governing permissions and\n",
              "// limitations under the License.\n",
              "\n",
              "/**\n",
              " * @fileoverview Helpers for google.colab Python module.\n",
              " */\n",
              "(function(scope) {\n",
              "function span(text, styleAttributes = {}) {\n",
              "  const element = document.createElement('span');\n",
              "  element.textContent = text;\n",
              "  for (const key of Object.keys(styleAttributes)) {\n",
              "    element.style[key] = styleAttributes[key];\n",
              "  }\n",
              "  return element;\n",
              "}\n",
              "\n",
              "// Max number of bytes which will be uploaded at a time.\n",
              "const MAX_PAYLOAD_SIZE = 100 * 1024;\n",
              "\n",
              "function _uploadFiles(inputId, outputId) {\n",
              "  const steps = uploadFilesStep(inputId, outputId);\n",
              "  const outputElement = document.getElementById(outputId);\n",
              "  // Cache steps on the outputElement to make it available for the next call\n",
              "  // to uploadFilesContinue from Python.\n",
              "  outputElement.steps = steps;\n",
              "\n",
              "  return _uploadFilesContinue(outputId);\n",
              "}\n",
              "\n",
              "// This is roughly an async generator (not supported in the browser yet),\n",
              "// where there are multiple asynchronous steps and the Python side is going\n",
              "// to poll for completion of each step.\n",
              "// This uses a Promise to block the python side on completion of each step,\n",
              "// then passes the result of the previous step as the input to the next step.\n",
              "function _uploadFilesContinue(outputId) {\n",
              "  const outputElement = document.getElementById(outputId);\n",
              "  const steps = outputElement.steps;\n",
              "\n",
              "  const next = steps.next(outputElement.lastPromiseValue);\n",
              "  return Promise.resolve(next.value.promise).then((value) => {\n",
              "    // Cache the last promise value to make it available to the next\n",
              "    // step of the generator.\n",
              "    outputElement.lastPromiseValue = value;\n",
              "    return next.value.response;\n",
              "  });\n",
              "}\n",
              "\n",
              "/**\n",
              " * Generator function which is called between each async step of the upload\n",
              " * process.\n",
              " * @param {string} inputId Element ID of the input file picker element.\n",
              " * @param {string} outputId Element ID of the output display.\n",
              " * @return {!Iterable<!Object>} Iterable of next steps.\n",
              " */\n",
              "function* uploadFilesStep(inputId, outputId) {\n",
              "  const inputElement = document.getElementById(inputId);\n",
              "  inputElement.disabled = false;\n",
              "\n",
              "  const outputElement = document.getElementById(outputId);\n",
              "  outputElement.innerHTML = '';\n",
              "\n",
              "  const pickedPromise = new Promise((resolve) => {\n",
              "    inputElement.addEventListener('change', (e) => {\n",
              "      resolve(e.target.files);\n",
              "    });\n",
              "  });\n",
              "\n",
              "  const cancel = document.createElement('button');\n",
              "  inputElement.parentElement.appendChild(cancel);\n",
              "  cancel.textContent = 'Cancel upload';\n",
              "  const cancelPromise = new Promise((resolve) => {\n",
              "    cancel.onclick = () => {\n",
              "      resolve(null);\n",
              "    };\n",
              "  });\n",
              "\n",
              "  // Wait for the user to pick the files.\n",
              "  const files = yield {\n",
              "    promise: Promise.race([pickedPromise, cancelPromise]),\n",
              "    response: {\n",
              "      action: 'starting',\n",
              "    }\n",
              "  };\n",
              "\n",
              "  cancel.remove();\n",
              "\n",
              "  // Disable the input element since further picks are not allowed.\n",
              "  inputElement.disabled = true;\n",
              "\n",
              "  if (!files) {\n",
              "    return {\n",
              "      response: {\n",
              "        action: 'complete',\n",
              "      }\n",
              "    };\n",
              "  }\n",
              "\n",
              "  for (const file of files) {\n",
              "    const li = document.createElement('li');\n",
              "    li.append(span(file.name, {fontWeight: 'bold'}));\n",
              "    li.append(span(\n",
              "        `(${file.type || 'n/a'}) - ${file.size} bytes, ` +\n",
              "        `last modified: ${\n",
              "            file.lastModifiedDate ? file.lastModifiedDate.toLocaleDateString() :\n",
              "                                    'n/a'} - `));\n",
              "    const percent = span('0% done');\n",
              "    li.appendChild(percent);\n",
              "\n",
              "    outputElement.appendChild(li);\n",
              "\n",
              "    const fileDataPromise = new Promise((resolve) => {\n",
              "      const reader = new FileReader();\n",
              "      reader.onload = (e) => {\n",
              "        resolve(e.target.result);\n",
              "      };\n",
              "      reader.readAsArrayBuffer(file);\n",
              "    });\n",
              "    // Wait for the data to be ready.\n",
              "    let fileData = yield {\n",
              "      promise: fileDataPromise,\n",
              "      response: {\n",
              "        action: 'continue',\n",
              "      }\n",
              "    };\n",
              "\n",
              "    // Use a chunked sending to avoid message size limits. See b/62115660.\n",
              "    let position = 0;\n",
              "    do {\n",
              "      const length = Math.min(fileData.byteLength - position, MAX_PAYLOAD_SIZE);\n",
              "      const chunk = new Uint8Array(fileData, position, length);\n",
              "      position += length;\n",
              "\n",
              "      const base64 = btoa(String.fromCharCode.apply(null, chunk));\n",
              "      yield {\n",
              "        response: {\n",
              "          action: 'append',\n",
              "          file: file.name,\n",
              "          data: base64,\n",
              "        },\n",
              "      };\n",
              "\n",
              "      let percentDone = fileData.byteLength === 0 ?\n",
              "          100 :\n",
              "          Math.round((position / fileData.byteLength) * 100);\n",
              "      percent.textContent = `${percentDone}% done`;\n",
              "\n",
              "    } while (position < fileData.byteLength);\n",
              "  }\n",
              "\n",
              "  // All done.\n",
              "  yield {\n",
              "    response: {\n",
              "      action: 'complete',\n",
              "    }\n",
              "  };\n",
              "}\n",
              "\n",
              "scope.google = scope.google || {};\n",
              "scope.google.colab = scope.google.colab || {};\n",
              "scope.google.colab._files = {\n",
              "  _uploadFiles,\n",
              "  _uploadFilesContinue,\n",
              "};\n",
              "})(self);\n",
              "</script> "
            ]
          },
          "metadata": {}
        },
        {
          "output_type": "stream",
          "name": "stdout",
          "text": [
            "Saving kaggle.json to kaggle.json\n"
          ]
        },
        {
          "output_type": "execute_result",
          "data": {
            "text/plain": [
              "{'kaggle.json': b'{\"username\":\"humbertomarriel\",\"key\":\"6f58ace884f37e2e2b80db5e29d3ac9e\"}'}"
            ]
          },
          "metadata": {},
          "execution_count": 6
        }
      ]
    },
    {
      "cell_type": "code",
      "source": [
        "!pip install -q kaggle\n",
        "!mkdir -p ~/.kaggle\n",
        "!cp kaggle.json ~/.kaggle/\n",
        "!ls ~/.kaggle\n",
        "!chmod 600 /root/.kaggle/kaggle.json  # set permission"
      ],
      "metadata": {
        "colab": {
          "base_uri": "https://localhost:8080/"
        },
        "id": "xu_LmUWT7bpD",
        "outputId": "45866c82-02b6-46c8-af61-2d9bef39de21"
      },
      "execution_count": null,
      "outputs": [
        {
          "output_type": "stream",
          "name": "stdout",
          "text": [
            "kaggle.json\n"
          ]
        }
      ]
    },
    {
      "cell_type": "code",
      "source": [
        "!kaggle datasets download -d olistbr/brazilian-ecommerce # para obter os CSVs da olist diretamente da Kaggle"
      ],
      "metadata": {
        "colab": {
          "base_uri": "https://localhost:8080/"
        },
        "id": "1r_o_oG48adB",
        "outputId": "8ce58100-925d-45b3-ed0a-f75de70a5617"
      },
      "execution_count": null,
      "outputs": [
        {
          "output_type": "stream",
          "name": "stdout",
          "text": [
            "Downloading brazilian-ecommerce.zip to /content\n",
            " 63% 27.0M/42.6M [00:00<00:00, 142MB/s] \n",
            "100% 42.6M/42.6M [00:00<00:00, 150MB/s]\n"
          ]
        }
      ]
    },
    {
      "cell_type": "code",
      "source": [
        "! mkdir brazilian-ecommerce"
      ],
      "metadata": {
        "id": "hjis3igo8zUM"
      },
      "execution_count": null,
      "outputs": []
    },
    {
      "cell_type": "code",
      "source": [
        "! unzip brazilian-ecommerce.zip -d brazilian-ecommerce"
      ],
      "metadata": {
        "colab": {
          "base_uri": "https://localhost:8080/"
        },
        "id": "S9hd0LnA-qaw",
        "outputId": "7cde0f0b-ec1e-4498-9289-3ea0ba3d7cd1"
      },
      "execution_count": null,
      "outputs": [
        {
          "output_type": "stream",
          "name": "stdout",
          "text": [
            "Archive:  brazilian-ecommerce.zip\n",
            "  inflating: brazilian-ecommerce/olist_customers_dataset.csv  \n",
            "  inflating: brazilian-ecommerce/olist_geolocation_dataset.csv  \n",
            "  inflating: brazilian-ecommerce/olist_order_items_dataset.csv  \n",
            "  inflating: brazilian-ecommerce/olist_order_payments_dataset.csv  \n",
            "  inflating: brazilian-ecommerce/olist_order_reviews_dataset.csv  \n",
            "  inflating: brazilian-ecommerce/olist_orders_dataset.csv  \n",
            "  inflating: brazilian-ecommerce/olist_products_dataset.csv  \n",
            "  inflating: brazilian-ecommerce/olist_sellers_dataset.csv  \n",
            "  inflating: brazilian-ecommerce/product_category_name_translation.csv  \n"
          ]
        }
      ]
    },
    {
      "cell_type": "code",
      "source": [
        "#Importa as planilhas para um dataframe\n",
        "pd = spark.read.csv('brazilian-ecommerce/olist_products_dataset.csv',inferSchema=True, header=True, sep=',') \n",
        "oid = spark.read.csv('brazilian-ecommerce/olist_order_items_dataset.csv',inferSchema=True, header=True, sep=',')\n",
        "pyd = spark.read.csv('brazilian-ecommerce/olist_order_payments_dataset.csv',inferSchema=True, header=True, sep=',')\n",
        "od = spark.read.csv('brazilian-ecommerce/olist_orders_dataset.csv',inferSchema=True, header=True, sep=',') \n",
        "sd = spark.read.csv('brazilian-ecommerce/olist_sellers_dataset.csv',inferSchema=True, header=True, sep=',')\n",
        "cd = spark.read.csv('brazilian-ecommerce/olist_customers_dataset.csv',inferSchema=True, header=True, sep=',')\n",
        "gd = spark.read.csv('brazilian-ecommerce/olist_geolocation_dataset.csv',inferSchema=True, header=True, sep=',')"
      ],
      "metadata": {
        "id": "INA52Rkq-0dW"
      },
      "execution_count": null,
      "outputs": []
    },
    {
      "cell_type": "code",
      "source": [
        "pd.createOrReplaceTempView(\"pd\")\n",
        "oid.createOrReplaceTempView(\"oid\")\n",
        "pyd.createOrReplaceTempView(\"pyd\")\n",
        "od.createOrReplaceTempView(\"od\")\n",
        "sd.createOrReplaceTempView(\"sd\")\n",
        "cd.createOrReplaceTempView(\"cd\")\n",
        "gd.createOrReplaceTempView(\"gd\")"
      ],
      "metadata": {
        "id": "i0JeDkIMAGcW"
      },
      "execution_count": null,
      "outputs": []
    },
    {
      "cell_type": "code",
      "source": [
        "dataset_list = [pd, oid, pyd, od, sd, cd, gd]"
      ],
      "metadata": {
        "id": "NCi5Xx0RAcAj"
      },
      "execution_count": null,
      "outputs": []
    },
    {
      "cell_type": "code",
      "source": [
        "def show_Dataset(datasetlist):\n",
        "  for dataset in datasetlist:  \n",
        "    print(datasetlist)\n",
        "    dataset.show()"
      ],
      "metadata": {
        "id": "pUT4wVAWAewt"
      },
      "execution_count": null,
      "outputs": []
    },
    {
      "cell_type": "code",
      "source": [
        "show_Dataset(dataset_list)"
      ],
      "metadata": {
        "colab": {
          "base_uri": "https://localhost:8080/"
        },
        "id": "p72dJmIHAjAA",
        "outputId": "acf579e0-cb23-4952-ecb1-d112e11f93ff"
      },
      "execution_count": null,
      "outputs": [
        {
          "output_type": "stream",
          "name": "stdout",
          "text": [
            "[DataFrame[product_id: string, product_category_name: string, product_name_lenght: int, product_description_lenght: int, product_photos_qty: int, product_weight_g: int, product_length_cm: int, product_height_cm: int, product_width_cm: int], DataFrame[order_id: string, order_item_id: int, product_id: string, seller_id: string, shipping_limit_date: timestamp, price: double, freight_value: double], DataFrame[order_id: string, payment_sequential: int, payment_type: string, payment_installments: int, payment_value: double], DataFrame[order_id: string, customer_id: string, order_status: string, order_purchase_timestamp: timestamp, order_approved_at: timestamp, order_delivered_carrier_date: timestamp, order_delivered_customer_date: timestamp, order_estimated_delivery_date: timestamp], DataFrame[seller_id: string, seller_zip_code_prefix: int, seller_city: string, seller_state: string], DataFrame[customer_id: string, customer_unique_id: string, customer_zip_code_prefix: int, customer_city: string, customer_state: string], DataFrame[geolocation_zip_code_prefix: int, geolocation_lat: double, geolocation_lng: double, geolocation_city: string, geolocation_state: string]]\n",
            "+--------------------+---------------------+-------------------+--------------------------+------------------+----------------+-----------------+-----------------+----------------+\n",
            "|          product_id|product_category_name|product_name_lenght|product_description_lenght|product_photos_qty|product_weight_g|product_length_cm|product_height_cm|product_width_cm|\n",
            "+--------------------+---------------------+-------------------+--------------------------+------------------+----------------+-----------------+-----------------+----------------+\n",
            "|1e9e8ef04dbcff454...|           perfumaria|                 40|                       287|                 1|             225|               16|               10|              14|\n",
            "|3aa071139cb16b67c...|                artes|                 44|                       276|                 1|            1000|               30|               18|              20|\n",
            "|96bd76ec8810374ed...|        esporte_lazer|                 46|                       250|                 1|             154|               18|                9|              15|\n",
            "|cef67bcfe19066a93...|                bebes|                 27|                       261|                 1|             371|               26|                4|              26|\n",
            "|9dc1a7de274444849...| utilidades_domest...|                 37|                       402|                 4|             625|               20|               17|              13|\n",
            "|41d3672d4792049fa...| instrumentos_musi...|                 60|                       745|                 1|             200|               38|                5|              11|\n",
            "|732bd381ad09e530f...|           cool_stuff|                 56|                      1272|                 4|           18350|               70|               24|              44|\n",
            "|2548af3e6e77a690c...|     moveis_decoracao|                 56|                       184|                 2|             900|               40|                8|              40|\n",
            "|37cc742be07708b53...|     eletrodomesticos|                 57|                       163|                 1|             400|               27|               13|              17|\n",
            "|8c92109888e8cdf9d...|           brinquedos|                 36|                      1156|                 1|             600|               17|               10|              12|\n",
            "|14aa47b7fe5c25522...|      cama_mesa_banho|                 54|                       630|                 1|            1100|               16|               10|              16|\n",
            "|03b63c5fc16691530...|                bebes|                 49|                       728|                 4|            7150|               50|               19|              45|\n",
            "|cf55509ea8edaaac1...| instrumentos_musi...|                 43|                      1827|                 3|             250|               17|                7|              17|\n",
            "|7bb6f29c2be577161...|     moveis_decoracao|                 51|                      2083|                 2|             600|               68|               11|              13|\n",
            "|eb31436580a610f20...| construcao_ferram...|                 59|                      1602|                 4|             200|               17|                7|              17|\n",
            "|3bb7f144022e67327...|        esporte_lazer|                 22|                      3021|                 1|             800|               16|                2|              11|\n",
            "|6a2fb4dd53d2cdb88...|           perfumaria|                 39|                       346|                 2|             400|               27|                5|              20|\n",
            "|a1b71017a84f92fd8...| informatica_acess...|                 59|                       636|                 1|             900|               40|               15|              20|\n",
            "|a0736b92e52f6cead...|     moveis_decoracao|                 56|                       296|                 2|            1700|              100|                7|              15|\n",
            "|f53103a77d9cf245e...|      cama_mesa_banho|                 52|                       206|                 1|             500|               16|               10|              16|\n",
            "+--------------------+---------------------+-------------------+--------------------------+------------------+----------------+-----------------+-----------------+----------------+\n",
            "only showing top 20 rows\n",
            "\n",
            "[DataFrame[product_id: string, product_category_name: string, product_name_lenght: int, product_description_lenght: int, product_photos_qty: int, product_weight_g: int, product_length_cm: int, product_height_cm: int, product_width_cm: int], DataFrame[order_id: string, order_item_id: int, product_id: string, seller_id: string, shipping_limit_date: timestamp, price: double, freight_value: double], DataFrame[order_id: string, payment_sequential: int, payment_type: string, payment_installments: int, payment_value: double], DataFrame[order_id: string, customer_id: string, order_status: string, order_purchase_timestamp: timestamp, order_approved_at: timestamp, order_delivered_carrier_date: timestamp, order_delivered_customer_date: timestamp, order_estimated_delivery_date: timestamp], DataFrame[seller_id: string, seller_zip_code_prefix: int, seller_city: string, seller_state: string], DataFrame[customer_id: string, customer_unique_id: string, customer_zip_code_prefix: int, customer_city: string, customer_state: string], DataFrame[geolocation_zip_code_prefix: int, geolocation_lat: double, geolocation_lng: double, geolocation_city: string, geolocation_state: string]]\n",
            "+--------------------+-------------+--------------------+--------------------+-------------------+------+-------------+\n",
            "|            order_id|order_item_id|          product_id|           seller_id|shipping_limit_date| price|freight_value|\n",
            "+--------------------+-------------+--------------------+--------------------+-------------------+------+-------------+\n",
            "|00010242fe8c5a6d1...|            1|4244733e06e7ecb49...|48436dade18ac8b2b...|2017-09-19 09:45:35|  58.9|        13.29|\n",
            "|00018f77f2f0320c5...|            1|e5f2d52b802189ee6...|dd7ddc04e1b6c2c61...|2017-05-03 11:05:13| 239.9|        19.93|\n",
            "|000229ec398224ef6...|            1|c777355d18b72b67a...|5b51032eddd242adc...|2018-01-18 14:48:30| 199.0|        17.87|\n",
            "|00024acbcdf0a6daa...|            1|7634da152a4610f15...|9d7a1d34a50524090...|2018-08-15 10:10:18| 12.99|        12.79|\n",
            "|00042b26cf59d7ce6...|            1|ac6c3623068f30de0...|df560393f3a51e745...|2017-02-13 13:57:51| 199.9|        18.14|\n",
            "|00048cc3ae777c65d...|            1|ef92defde845ab845...|6426d21aca402a131...|2017-05-23 03:55:27|  21.9|        12.69|\n",
            "|00054e8431b9d7675...|            1|8d4f2bb7e93e6710a...|7040e82f899a04d1b...|2017-12-14 12:10:31|  19.9|        11.85|\n",
            "|000576fe39319847c...|            1|557d850972a7d6f79...|5996cddab893a4652...|2018-07-10 12:30:45| 810.0|        70.75|\n",
            "|0005a1a1728c9d785...|            1|310ae3c140ff94b03...|a416b6a846a117243...|2018-03-26 18:31:29|145.95|        11.65|\n",
            "|0005f50442cb953dc...|            1|4535b0e1091c278df...|ba143b05f0110f0dc...|2018-07-06 14:10:56| 53.99|         11.4|\n",
            "|00061f2a7bc09da83...|            1|d63c1011f49d98b97...|cc419e0650a3c5ba7...|2018-03-29 22:28:09| 59.99|         8.88|\n",
            "|00063b381e2406b52...|            1|f177554ea93259a5b...|8602a61d680a10a82...|2018-07-31 17:30:39|  45.0|        12.98|\n",
            "|0006ec9db01a64e59...|            1|99a4788cb24856965...|4a3ca9315b744ce9f...|2018-07-26 17:24:20|  74.0|        23.32|\n",
            "|0008288aa423d2a3f...|            1|368c6c730842d7801...|1f50f920176fa81da...|2018-02-21 02:55:52|  49.9|        13.37|\n",
            "|0008288aa423d2a3f...|            2|368c6c730842d7801...|1f50f920176fa81da...|2018-02-21 02:55:52|  49.9|        13.37|\n",
            "|0009792311464db53...|            1|8cab8abac59158715...|530ec6109d11eaaf8...|2018-08-17 12:15:10|  99.9|        27.65|\n",
            "|0009c9a17f916a706...|            1|3f27ac8e699df3d30...|fcb5ace8bcc92f757...|2018-05-02 09:31:53| 639.0|        11.34|\n",
            "|000aed2e25dbad2f9...|            1|4fa33915031a8cde0...|fe2032dab1a61af87...|2018-05-16 20:57:03| 144.0|         8.77|\n",
            "|000c3e6612759851c...|            1|b50c950aba0dcead2...|218d46b86c1881d02...|2017-08-21 03:33:13|  99.0|        13.71|\n",
            "|000e562887b1f2006...|            1|5ed9eaf534f6936b5...|8cbac7e12637ed9cf...|2018-02-28 12:08:37|  25.0|        16.11|\n",
            "+--------------------+-------------+--------------------+--------------------+-------------------+------+-------------+\n",
            "only showing top 20 rows\n",
            "\n",
            "[DataFrame[product_id: string, product_category_name: string, product_name_lenght: int, product_description_lenght: int, product_photos_qty: int, product_weight_g: int, product_length_cm: int, product_height_cm: int, product_width_cm: int], DataFrame[order_id: string, order_item_id: int, product_id: string, seller_id: string, shipping_limit_date: timestamp, price: double, freight_value: double], DataFrame[order_id: string, payment_sequential: int, payment_type: string, payment_installments: int, payment_value: double], DataFrame[order_id: string, customer_id: string, order_status: string, order_purchase_timestamp: timestamp, order_approved_at: timestamp, order_delivered_carrier_date: timestamp, order_delivered_customer_date: timestamp, order_estimated_delivery_date: timestamp], DataFrame[seller_id: string, seller_zip_code_prefix: int, seller_city: string, seller_state: string], DataFrame[customer_id: string, customer_unique_id: string, customer_zip_code_prefix: int, customer_city: string, customer_state: string], DataFrame[geolocation_zip_code_prefix: int, geolocation_lat: double, geolocation_lng: double, geolocation_city: string, geolocation_state: string]]\n",
            "+--------------------+------------------+------------+--------------------+-------------+\n",
            "|            order_id|payment_sequential|payment_type|payment_installments|payment_value|\n",
            "+--------------------+------------------+------------+--------------------+-------------+\n",
            "|b81ef226f3fe1789b...|                 1| credit_card|                   8|        99.33|\n",
            "|a9810da82917af2d9...|                 1| credit_card|                   1|        24.39|\n",
            "|25e8ea4e93396b6fa...|                 1| credit_card|                   1|        65.71|\n",
            "|ba78997921bbcdc13...|                 1| credit_card|                   8|       107.78|\n",
            "|42fdf880ba16b47b5...|                 1| credit_card|                   2|       128.45|\n",
            "|298fcdf1f73eb413e...|                 1| credit_card|                   2|        96.12|\n",
            "|771ee386b001f0620...|                 1| credit_card|                   1|        81.16|\n",
            "|3d7239c394a212faa...|                 1| credit_card|                   3|        51.84|\n",
            "|1f78449c87a54faf9...|                 1| credit_card|                   6|       341.09|\n",
            "|0573b5e23cbd79800...|                 1|      boleto|                   1|        51.95|\n",
            "|d88e0d5fa41661ce0...|                 1| credit_card|                   8|       188.73|\n",
            "|2480f727e869fdeb3...|                 1| credit_card|                   1|        141.9|\n",
            "|616105c9352a9668c...|                 1| credit_card|                   1|        75.78|\n",
            "|cf95215a722f3ebf2...|                 1| credit_card|                   5|       102.66|\n",
            "|769214176682788a9...|                 1| credit_card|                   4|       105.28|\n",
            "|12e5cfe0e4716b59a...|                 1| credit_card|                  10|       157.45|\n",
            "|61059985a6fc0ad64...|                 1| credit_card|                   1|       132.04|\n",
            "|79da3f5fe31ad1e45...|                 1| credit_card|                   1|        98.94|\n",
            "|8ac09207f415d55ac...|                 1| credit_card|                   4|       244.15|\n",
            "|b2349a3f20dfbeef6...|                 1| credit_card|                   3|       136.71|\n",
            "+--------------------+------------------+------------+--------------------+-------------+\n",
            "only showing top 20 rows\n",
            "\n",
            "[DataFrame[product_id: string, product_category_name: string, product_name_lenght: int, product_description_lenght: int, product_photos_qty: int, product_weight_g: int, product_length_cm: int, product_height_cm: int, product_width_cm: int], DataFrame[order_id: string, order_item_id: int, product_id: string, seller_id: string, shipping_limit_date: timestamp, price: double, freight_value: double], DataFrame[order_id: string, payment_sequential: int, payment_type: string, payment_installments: int, payment_value: double], DataFrame[order_id: string, customer_id: string, order_status: string, order_purchase_timestamp: timestamp, order_approved_at: timestamp, order_delivered_carrier_date: timestamp, order_delivered_customer_date: timestamp, order_estimated_delivery_date: timestamp], DataFrame[seller_id: string, seller_zip_code_prefix: int, seller_city: string, seller_state: string], DataFrame[customer_id: string, customer_unique_id: string, customer_zip_code_prefix: int, customer_city: string, customer_state: string], DataFrame[geolocation_zip_code_prefix: int, geolocation_lat: double, geolocation_lng: double, geolocation_city: string, geolocation_state: string]]\n",
            "+--------------------+--------------------+------------+------------------------+-------------------+----------------------------+-----------------------------+-----------------------------+\n",
            "|            order_id|         customer_id|order_status|order_purchase_timestamp|  order_approved_at|order_delivered_carrier_date|order_delivered_customer_date|order_estimated_delivery_date|\n",
            "+--------------------+--------------------+------------+------------------------+-------------------+----------------------------+-----------------------------+-----------------------------+\n",
            "|e481f51cbdc54678b...|9ef432eb625129730...|   delivered|     2017-10-02 10:56:33|2017-10-02 11:07:15|         2017-10-04 19:55:00|          2017-10-10 21:25:13|          2017-10-18 00:00:00|\n",
            "|53cdb2fc8bc7dce0b...|b0830fb4747a6c6d2...|   delivered|     2018-07-24 20:41:37|2018-07-26 03:24:27|         2018-07-26 14:31:00|          2018-08-07 15:27:45|          2018-08-13 00:00:00|\n",
            "|47770eb9100c2d0c4...|41ce2a54c0b03bf34...|   delivered|     2018-08-08 08:38:49|2018-08-08 08:55:23|         2018-08-08 13:50:00|          2018-08-17 18:06:29|          2018-09-04 00:00:00|\n",
            "|949d5b44dbf5de918...|f88197465ea7920ad...|   delivered|     2017-11-18 19:28:06|2017-11-18 19:45:59|         2017-11-22 13:39:59|          2017-12-02 00:28:42|          2017-12-15 00:00:00|\n",
            "|ad21c59c0840e6cb8...|8ab97904e6daea886...|   delivered|     2018-02-13 21:18:39|2018-02-13 22:20:29|         2018-02-14 19:46:34|          2018-02-16 18:17:02|          2018-02-26 00:00:00|\n",
            "|a4591c265e18cb1dc...|503740e9ca751ccdd...|   delivered|     2017-07-09 21:57:05|2017-07-09 22:10:13|         2017-07-11 14:58:04|          2017-07-26 10:57:55|          2017-08-01 00:00:00|\n",
            "|136cce7faa42fdb2c...|ed0271e0b7da060a3...|    invoiced|     2017-04-11 12:22:08|2017-04-13 13:25:17|                        null|                         null|          2017-05-09 00:00:00|\n",
            "|6514b8ad8028c9f2c...|9bdf08b4b3b52b552...|   delivered|     2017-05-16 13:10:30|2017-05-16 13:22:11|         2017-05-22 10:07:46|          2017-05-26 12:55:51|          2017-06-07 00:00:00|\n",
            "|76c6e866289321a7c...|f54a9f0e6b351c431...|   delivered|     2017-01-23 18:29:09|2017-01-25 02:50:47|         2017-01-26 14:16:31|          2017-02-02 14:08:10|          2017-03-06 00:00:00|\n",
            "|e69bfb5eb88e0ed6a...|31ad1d1b63eb99624...|   delivered|     2017-07-29 11:55:02|2017-07-29 12:05:32|         2017-08-10 19:45:24|          2017-08-16 17:14:30|          2017-08-23 00:00:00|\n",
            "|e6ce16cb79ec1d90b...|494dded5b201313c6...|   delivered|     2017-05-16 19:41:10|2017-05-16 19:50:18|         2017-05-18 11:40:40|          2017-05-29 11:18:31|          2017-06-07 00:00:00|\n",
            "|34513ce0c4fab462a...|7711cf624183d843a...|   delivered|     2017-07-13 19:58:11|2017-07-13 20:10:08|         2017-07-14 18:43:29|          2017-07-19 14:04:48|          2017-08-08 00:00:00|\n",
            "|82566a660a982b15f...|d3e3b74c766bc6214...|   delivered|     2018-06-07 10:06:19|2018-06-09 03:13:12|         2018-06-11 13:29:00|          2018-06-19 12:05:52|          2018-07-18 00:00:00|\n",
            "|5ff96c15d0b717ac6...|19402a48fe860416a...|   delivered|     2018-07-25 17:44:10|2018-07-25 17:55:14|         2018-07-26 13:16:00|          2018-07-30 15:52:25|          2018-08-08 00:00:00|\n",
            "|432aaf21d85167c2c...|3df704f53d3f1d481...|   delivered|     2018-03-01 14:14:28|2018-03-01 15:10:47|         2018-03-02 21:09:20|          2018-03-12 23:36:26|          2018-03-21 00:00:00|\n",
            "|dcb36b511fcac050b...|3b6828a50ffe54694...|   delivered|     2018-06-07 19:03:12|2018-06-12 23:31:02|         2018-06-11 14:54:00|          2018-06-21 15:34:32|          2018-07-04 00:00:00|\n",
            "|403b97836b0c04a62...|738b086814c6fcc74...|   delivered|     2018-01-02 19:00:43|2018-01-02 19:09:04|         2018-01-03 18:19:09|          2018-01-20 01:38:59|          2018-02-06 00:00:00|\n",
            "|116f0b09343b49556...|3187789bec9909876...|   delivered|     2017-12-26 23:41:31|2017-12-26 23:50:22|         2017-12-28 18:33:05|          2018-01-08 22:36:36|          2018-01-29 00:00:00|\n",
            "|85ce859fd6dc634de...|059f7fc5719c7da6c...|   delivered|     2017-11-21 00:03:41|2017-11-21 00:14:22|         2017-11-23 21:32:26|          2017-11-27 18:28:00|          2017-12-11 00:00:00|\n",
            "|83018ec114eee8641...|7f8c8b9c2ae27bf33...|   delivered|     2017-10-26 15:54:26|2017-10-26 16:08:14|         2017-10-26 21:46:53|          2017-11-08 22:22:00|          2017-11-23 00:00:00|\n",
            "+--------------------+--------------------+------------+------------------------+-------------------+----------------------------+-----------------------------+-----------------------------+\n",
            "only showing top 20 rows\n",
            "\n",
            "[DataFrame[product_id: string, product_category_name: string, product_name_lenght: int, product_description_lenght: int, product_photos_qty: int, product_weight_g: int, product_length_cm: int, product_height_cm: int, product_width_cm: int], DataFrame[order_id: string, order_item_id: int, product_id: string, seller_id: string, shipping_limit_date: timestamp, price: double, freight_value: double], DataFrame[order_id: string, payment_sequential: int, payment_type: string, payment_installments: int, payment_value: double], DataFrame[order_id: string, customer_id: string, order_status: string, order_purchase_timestamp: timestamp, order_approved_at: timestamp, order_delivered_carrier_date: timestamp, order_delivered_customer_date: timestamp, order_estimated_delivery_date: timestamp], DataFrame[seller_id: string, seller_zip_code_prefix: int, seller_city: string, seller_state: string], DataFrame[customer_id: string, customer_unique_id: string, customer_zip_code_prefix: int, customer_city: string, customer_state: string], DataFrame[geolocation_zip_code_prefix: int, geolocation_lat: double, geolocation_lng: double, geolocation_city: string, geolocation_state: string]]\n",
            "+--------------------+----------------------+-----------------+------------+\n",
            "|           seller_id|seller_zip_code_prefix|      seller_city|seller_state|\n",
            "+--------------------+----------------------+-----------------+------------+\n",
            "|3442f8959a84dea7e...|                 13023|         campinas|          SP|\n",
            "|d1b65fc7debc3361e...|                 13844|       mogi guacu|          SP|\n",
            "|ce3ad9de960102d06...|                 20031|   rio de janeiro|          RJ|\n",
            "|c0f3eea2e14555b6f...|                  4195|        sao paulo|          SP|\n",
            "|51a04a8a6bdcb23de...|                 12914|braganca paulista|          SP|\n",
            "|c240c4061717ac180...|                 20920|   rio de janeiro|          RJ|\n",
            "|e49c26c3edfa46d22...|                 55325|           brejao|          PE|\n",
            "|1b938a7ec6ac5061a...|                 16304|        penapolis|          SP|\n",
            "|768a86e36ad6aae3d...|                  1529|        sao paulo|          SP|\n",
            "|ccc4bbb5f32a6ab2b...|                 80310|         curitiba|          PR|\n",
            "|8cb7c5ddf41f4d506...|                 75110|         anapolis|          GO|\n",
            "|a7a9b880c49781da6...|                 13530|        itirapina|          SP|\n",
            "|8bd0f31cf0a614c65...|                  1222|        sao paulo|          SP|\n",
            "|05a48cc8859962767...|                  5372|        sao paulo|          SP|\n",
            "|7b8e8ec35bad4b0ef...|                 88705|          tubarao|          SC|\n",
            "|1444c08e64d55fb3c...|                 42738| lauro de freitas|          BA|\n",
            "|166e8f1381e096519...|                 88780|         imbituba|          SC|\n",
            "|e38db885400cd35c7...|                 70740|         brasilia|          DF|\n",
            "|d2e753bb80b7d4faa...|                 45810|     porto seguro|          BA|\n",
            "|f9ec7093df3a7b346...|                  5138|        sao paulo|          SP|\n",
            "+--------------------+----------------------+-----------------+------------+\n",
            "only showing top 20 rows\n",
            "\n",
            "[DataFrame[product_id: string, product_category_name: string, product_name_lenght: int, product_description_lenght: int, product_photos_qty: int, product_weight_g: int, product_length_cm: int, product_height_cm: int, product_width_cm: int], DataFrame[order_id: string, order_item_id: int, product_id: string, seller_id: string, shipping_limit_date: timestamp, price: double, freight_value: double], DataFrame[order_id: string, payment_sequential: int, payment_type: string, payment_installments: int, payment_value: double], DataFrame[order_id: string, customer_id: string, order_status: string, order_purchase_timestamp: timestamp, order_approved_at: timestamp, order_delivered_carrier_date: timestamp, order_delivered_customer_date: timestamp, order_estimated_delivery_date: timestamp], DataFrame[seller_id: string, seller_zip_code_prefix: int, seller_city: string, seller_state: string], DataFrame[customer_id: string, customer_unique_id: string, customer_zip_code_prefix: int, customer_city: string, customer_state: string], DataFrame[geolocation_zip_code_prefix: int, geolocation_lat: double, geolocation_lng: double, geolocation_city: string, geolocation_state: string]]\n",
            "+--------------------+--------------------+------------------------+--------------------+--------------+\n",
            "|         customer_id|  customer_unique_id|customer_zip_code_prefix|       customer_city|customer_state|\n",
            "+--------------------+--------------------+------------------------+--------------------+--------------+\n",
            "|06b8999e2fba1a1fb...|861eff4711a542e4b...|                   14409|              franca|            SP|\n",
            "|18955e83d337fd6b2...|290c77bc529b7ac93...|                    9790|sao bernardo do c...|            SP|\n",
            "|4e7b3e00288586ebd...|060e732b5b29e8181...|                    1151|           sao paulo|            SP|\n",
            "|b2b6027bc5c5109e5...|259dac757896d24d7...|                    8775|     mogi das cruzes|            SP|\n",
            "|4f2d8ab171c80ec83...|345ecd01c38d18a90...|                   13056|            campinas|            SP|\n",
            "|879864dab9bc30475...|4c93744516667ad3b...|                   89254|      jaragua do sul|            SC|\n",
            "|fd826e7cf63160e53...|addec96d2e059c80c...|                    4534|           sao paulo|            SP|\n",
            "|5e274e7a0c3809e14...|57b2a98a409812fe9...|                   35182|             timoteo|            MG|\n",
            "|5adf08e34b2e99398...|1175e95fb47ddff9d...|                   81560|            curitiba|            PR|\n",
            "|4b7139f34592b3a31...|9afe194fb833f79e3...|                   30575|      belo horizonte|            MG|\n",
            "|9fb35e4ed6f0a14a4...|2a7745e1ed516b289...|                   39400|       montes claros|            MG|\n",
            "|5aa9e4fdd4dfd2095...|2a46fb94aef5cbeeb...|                   20231|      rio de janeiro|            RJ|\n",
            "|b2d1536598b73a9ab...|918dc87cd72cd9f6e...|                   18682|    lencois paulista|            SP|\n",
            "|eabebad39a88bb6f5...|295c05e81917928d7...|                    5704|           sao paulo|            SP|\n",
            "|1f1c7bf1c9b041b29...|3151a81801c838636...|                   95110|       caxias do sul|            RS|\n",
            "|206f3129c0e4d7d0b...|21f748a16f4e1688a...|                   13412|          piracicaba|            SP|\n",
            "|a7c125a0a07b75146...|5c2991dbd08bbf3cf...|                   22750|      rio de janeiro|            RJ|\n",
            "|c5c61596a3b6bd0ce...|b6e99561fe6f34a55...|                    7124|           guarulhos|            SP|\n",
            "|9b8ce803689b3562d...|7f3a72e8f988c6e73...|                    5416|           sao paulo|            SP|\n",
            "|49d0ea0986edde72d...|3e6fd6b2f0d499456...|                   68485|              pacaja|            PA|\n",
            "+--------------------+--------------------+------------------------+--------------------+--------------+\n",
            "only showing top 20 rows\n",
            "\n",
            "[DataFrame[product_id: string, product_category_name: string, product_name_lenght: int, product_description_lenght: int, product_photos_qty: int, product_weight_g: int, product_length_cm: int, product_height_cm: int, product_width_cm: int], DataFrame[order_id: string, order_item_id: int, product_id: string, seller_id: string, shipping_limit_date: timestamp, price: double, freight_value: double], DataFrame[order_id: string, payment_sequential: int, payment_type: string, payment_installments: int, payment_value: double], DataFrame[order_id: string, customer_id: string, order_status: string, order_purchase_timestamp: timestamp, order_approved_at: timestamp, order_delivered_carrier_date: timestamp, order_delivered_customer_date: timestamp, order_estimated_delivery_date: timestamp], DataFrame[seller_id: string, seller_zip_code_prefix: int, seller_city: string, seller_state: string], DataFrame[customer_id: string, customer_unique_id: string, customer_zip_code_prefix: int, customer_city: string, customer_state: string], DataFrame[geolocation_zip_code_prefix: int, geolocation_lat: double, geolocation_lng: double, geolocation_city: string, geolocation_state: string]]\n",
            "+---------------------------+-------------------+-------------------+----------------+-----------------+\n",
            "|geolocation_zip_code_prefix|    geolocation_lat|    geolocation_lng|geolocation_city|geolocation_state|\n",
            "+---------------------------+-------------------+-------------------+----------------+-----------------+\n",
            "|                       1037| -23.54562128115268| -46.63929204800168|       sao paulo|               SP|\n",
            "|                       1046|-23.546081127035535| -46.64482029837157|       sao paulo|               SP|\n",
            "|                       1046| -23.54612896641469| -46.64295148361138|       sao paulo|               SP|\n",
            "|                       1041|  -23.5443921648681| -46.63949930627844|       sao paulo|               SP|\n",
            "|                       1035|-23.541577961711493| -46.64160722329613|       sao paulo|               SP|\n",
            "|                       1012|-23.547762303364266| -46.63536053788448|       são paulo|               SP|\n",
            "|                       1047|-23.546273112412678| -46.64122516971552|       sao paulo|               SP|\n",
            "|                       1013|-23.546923208436723|  -46.6342636964915|       sao paulo|               SP|\n",
            "|                       1029|-23.543769055769133| -46.63427784085132|       sao paulo|               SP|\n",
            "|                       1011|-23.547639550320632| -46.63603162315495|       sao paulo|               SP|\n",
            "|                       1013|-23.547325128224376| -46.63418378613892|       sao paulo|               SP|\n",
            "|                       1032| -23.53841810407414|-46.634778375266734|       sao paulo|               SP|\n",
            "|                       1014|-23.546435343326205| -46.63383023397196|       sao paulo|               SP|\n",
            "|                       1012|-23.548945985189434| -46.63467113292871|       sao paulo|               SP|\n",
            "|                       1037|-23.545187340816042| -46.63785524104107|       são paulo|               SP|\n",
            "|                       1046|-23.546081127035535| -46.64482029837157|       sao paulo|               SP|\n",
            "|                       1039|-23.541883009983316| -46.63991946670314|       sao paulo|               SP|\n",
            "|                       1024|-23.541389521053937|-46.629899087812184|       são paulo|               SP|\n",
            "|                       1009| -23.54693540437998| -46.63658792659698|       sao paulo|               SP|\n",
            "|                       1046|-23.545884279214015|-46.643163191240035|       sao paulo|               SP|\n",
            "+---------------------------+-------------------+-------------------+----------------+-----------------+\n",
            "only showing top 20 rows\n",
            "\n"
          ]
        }
      ]
    },
    {
      "cell_type": "code",
      "source": [
        "import numpy as np"
      ],
      "metadata": {
        "id": "bo52lD0brG90"
      },
      "execution_count": null,
      "outputs": []
    },
    {
      "cell_type": "code",
      "source": [
        "#usando sql para selecionar os dados \n",
        "queryregiao=spark.sql(\"select concat('Brasil - ', sd.seller_state) as Estado, count (DISTINCT od.customer_id) as Clientes, count (DISTINCT sd.seller_id) as Vendedores, round(sum(cast(pyd.payment_value as decimal)),2) as Faturamento from od join oid on oid.order_id=od.order_id join sd on oid.seller_id=sd.seller_id join pyd on od.order_id=pyd.order_id join pd on oid.product_id=pd.product_id group by sd.seller_state \")"
      ],
      "metadata": {
        "id": "-r6Ikj_mDAA4"
      },
      "execution_count": null,
      "outputs": []
    },
    {
      "cell_type": "code",
      "source": [
        "queryregiao.show(100,False)"
      ],
      "metadata": {
        "colab": {
          "base_uri": "https://localhost:8080/"
        },
        "id": "n6daVCQYGcjp",
        "outputId": "0e2257e0-1208-4080-f2f1-62f71d869dab"
      },
      "execution_count": null,
      "outputs": [
        {
          "output_type": "stream",
          "name": "stdout",
          "text": [
            "+-----------+--------+----------+-----------+\n",
            "|Estado     |Clientes|Vendedores|Faturamento|\n",
            "+-----------+--------+----------+-----------+\n",
            "|Brasil - SC|3667    |190       |886765     |\n",
            "|Brasil - RO|14      |2         |5554       |\n",
            "|Brasil - PI|12      |1         |3184       |\n",
            "|Brasil - GO|463     |40        |112204     |\n",
            "|Brasil - MT|137     |4         |23643      |\n",
            "|Brasil - SP|70188   |1849      |13370891   |\n",
            "|Brasil - PB|36      |6         |20609      |\n",
            "|Brasil - ES|318     |23        |78828      |\n",
            "|Brasil - RS|1989    |129       |560278     |\n",
            "|Brasil - MS|49      |5         |10821      |\n",
            "|Brasil - MG|7930    |244       |1564744    |\n",
            "|Brasil - PA|8       |1         |1393       |\n",
            "|Brasil - BA|569     |19        |367910     |\n",
            "|Brasil - SE|9       |2         |2465       |\n",
            "|Brasil - PE|406     |9         |124883     |\n",
            "|Brasil - CE|91      |13        |25846      |\n",
            "|Brasil - RN|51      |5         |13553      |\n",
            "|Brasil - RJ|4353    |171       |1098261    |\n",
            "|Brasil - MA|392     |1         |51996      |\n",
            "|Brasil - DF|824     |30        |137816     |\n",
            "|Brasil - PR|7672    |349       |1846004    |\n",
            "|Brasil - AM|3       |1         |1258       |\n",
            "|Brasil - AC|1       |1         |300        |\n",
            "+-----------+--------+----------+-----------+\n",
            "\n"
          ]
        }
      ]
    },
    {
      "cell_type": "code",
      "source": [
        "import pyspark.pandas as ps\n",
        "import pandas as pf\n",
        "analise=queryregiao.to_pandas_on_spark()\n",
        "analisecluster=queryregiao.to_pandas_on_spark()\n"
      ],
      "metadata": {
        "colab": {
          "base_uri": "https://localhost:8080/"
        },
        "id": "X4AgD9EOGe4v",
        "outputId": "3ba1e4f2-e2ce-40c1-a88d-06a83d89c85c"
      },
      "execution_count": null,
      "outputs": [
        {
          "output_type": "stream",
          "name": "stderr",
          "text": [
            "spark-3.3.0-bin-hadoop2/python/pyspark/sql/dataframe.py:3315: FutureWarning: DataFrame.to_pandas_on_spark is deprecated. Use DataFrame.pandas_api instead.\n",
            "  FutureWarning,\n"
          ]
        }
      ]
    },
    {
      "cell_type": "code",
      "source": [
        "#normalizando os dados para os clusters\n",
        "query_normalized_clientes=(analisecluster['Clientes'] - analisecluster['Clientes'].min()) / (analisecluster['Clientes'].max() - analisecluster['Clientes'].min())\n",
        "query_normalized_vendedores=(analisecluster['Vendedores'] - analisecluster['Vendedores'].min()) / (analisecluster['Vendedores'].max() - analisecluster['Vendedores'].min())\n",
        "query_normalized_faturamento=(analisecluster['Faturamento'] - analisecluster['Faturamento'].min()) / (analisecluster['Faturamento'].max() - analisecluster['Faturamento'].min())"
      ],
      "metadata": {
        "id": "_CQSwp-SBQwZ"
      },
      "execution_count": null,
      "outputs": []
    },
    {
      "cell_type": "code",
      "source": [
        "analisecluster['Clientes']=query_normalized_clientes\n",
        "analisecluster['Vendedores']=query_normalized_vendedores\n",
        "analisecluster['Faturamento']=query_normalized_faturamento"
      ],
      "metadata": {
        "id": "bncQ-xVHB9bg"
      },
      "execution_count": null,
      "outputs": []
    },
    {
      "cell_type": "code",
      "source": [
        "analisecluster"
      ],
      "metadata": {
        "colab": {
          "base_uri": "https://localhost:8080/",
          "height": 771
        },
        "id": "XHH11PhLBt-9",
        "outputId": "86a674a9-f0ee-498a-c70d-7c8a2b6c9f18"
      },
      "execution_count": null,
      "outputs": [
        {
          "output_type": "execute_result",
          "data": {
            "text/plain": [
              "         Estado  Clientes  Vendedores  Faturamento\n",
              "0   Brasil - SC  0.052232    0.102273     0.066300\n",
              "1   Brasil - RO  0.000185    0.000541     0.000393\n",
              "2   Brasil - PI  0.000157    0.000000     0.000216\n",
              "3   Brasil - GO  0.006582    0.021104     0.008369\n",
              "4   Brasil - MT  0.001938    0.001623     0.001746\n",
              "5   Brasil - SP  1.000000    1.000000     1.000000\n",
              "6   Brasil - PB  0.000499    0.002706     0.001519\n",
              "7   Brasil - ES  0.004517    0.011905     0.005873\n",
              "8   Brasil - RS  0.028324    0.069264     0.041881\n",
              "9   Brasil - MS  0.000684    0.002165     0.000787\n",
              "10  Brasil - MG  0.112970    0.131494     0.117006\n",
              "11  Brasil - PA  0.000100    0.000000     0.000082\n",
              "12  Brasil - BA  0.008093    0.009740     0.027494\n",
              "13  Brasil - SE  0.000114    0.000541     0.000162\n",
              "14  Brasil - PE  0.005770    0.004329     0.009318\n",
              "15  Brasil - CE  0.001282    0.006494     0.001911\n",
              "16  Brasil - RN  0.000712    0.002165     0.000991\n",
              "17  Brasil - RJ  0.062006    0.091991     0.082118\n",
              "18  Brasil - MA  0.005571    0.000000     0.003866\n",
              "19  Brasil - DF  0.011726    0.015693     0.010285\n",
              "20  Brasil - PR  0.109294    0.188312     0.138042\n",
              "21  Brasil - AM  0.000028    0.000000     0.000072\n",
              "22  Brasil - AC  0.000000    0.000000     0.000000"
            ],
            "text/html": [
              "<div>\n",
              "<style scoped>\n",
              "    .dataframe tbody tr th:only-of-type {\n",
              "        vertical-align: middle;\n",
              "    }\n",
              "\n",
              "    .dataframe tbody tr th {\n",
              "        vertical-align: top;\n",
              "    }\n",
              "\n",
              "    .dataframe thead th {\n",
              "        text-align: right;\n",
              "    }\n",
              "</style>\n",
              "<table border=\"1\" class=\"dataframe\">\n",
              "  <thead>\n",
              "    <tr style=\"text-align: right;\">\n",
              "      <th></th>\n",
              "      <th>Estado</th>\n",
              "      <th>Clientes</th>\n",
              "      <th>Vendedores</th>\n",
              "      <th>Faturamento</th>\n",
              "    </tr>\n",
              "  </thead>\n",
              "  <tbody>\n",
              "    <tr>\n",
              "      <th>0</th>\n",
              "      <td>Brasil - SC</td>\n",
              "      <td>0.052232</td>\n",
              "      <td>0.102273</td>\n",
              "      <td>0.066300</td>\n",
              "    </tr>\n",
              "    <tr>\n",
              "      <th>1</th>\n",
              "      <td>Brasil - RO</td>\n",
              "      <td>0.000185</td>\n",
              "      <td>0.000541</td>\n",
              "      <td>0.000393</td>\n",
              "    </tr>\n",
              "    <tr>\n",
              "      <th>2</th>\n",
              "      <td>Brasil - PI</td>\n",
              "      <td>0.000157</td>\n",
              "      <td>0.000000</td>\n",
              "      <td>0.000216</td>\n",
              "    </tr>\n",
              "    <tr>\n",
              "      <th>3</th>\n",
              "      <td>Brasil - GO</td>\n",
              "      <td>0.006582</td>\n",
              "      <td>0.021104</td>\n",
              "      <td>0.008369</td>\n",
              "    </tr>\n",
              "    <tr>\n",
              "      <th>4</th>\n",
              "      <td>Brasil - MT</td>\n",
              "      <td>0.001938</td>\n",
              "      <td>0.001623</td>\n",
              "      <td>0.001746</td>\n",
              "    </tr>\n",
              "    <tr>\n",
              "      <th>5</th>\n",
              "      <td>Brasil - SP</td>\n",
              "      <td>1.000000</td>\n",
              "      <td>1.000000</td>\n",
              "      <td>1.000000</td>\n",
              "    </tr>\n",
              "    <tr>\n",
              "      <th>6</th>\n",
              "      <td>Brasil - PB</td>\n",
              "      <td>0.000499</td>\n",
              "      <td>0.002706</td>\n",
              "      <td>0.001519</td>\n",
              "    </tr>\n",
              "    <tr>\n",
              "      <th>7</th>\n",
              "      <td>Brasil - ES</td>\n",
              "      <td>0.004517</td>\n",
              "      <td>0.011905</td>\n",
              "      <td>0.005873</td>\n",
              "    </tr>\n",
              "    <tr>\n",
              "      <th>8</th>\n",
              "      <td>Brasil - RS</td>\n",
              "      <td>0.028324</td>\n",
              "      <td>0.069264</td>\n",
              "      <td>0.041881</td>\n",
              "    </tr>\n",
              "    <tr>\n",
              "      <th>9</th>\n",
              "      <td>Brasil - MS</td>\n",
              "      <td>0.000684</td>\n",
              "      <td>0.002165</td>\n",
              "      <td>0.000787</td>\n",
              "    </tr>\n",
              "    <tr>\n",
              "      <th>10</th>\n",
              "      <td>Brasil - MG</td>\n",
              "      <td>0.112970</td>\n",
              "      <td>0.131494</td>\n",
              "      <td>0.117006</td>\n",
              "    </tr>\n",
              "    <tr>\n",
              "      <th>11</th>\n",
              "      <td>Brasil - PA</td>\n",
              "      <td>0.000100</td>\n",
              "      <td>0.000000</td>\n",
              "      <td>0.000082</td>\n",
              "    </tr>\n",
              "    <tr>\n",
              "      <th>12</th>\n",
              "      <td>Brasil - BA</td>\n",
              "      <td>0.008093</td>\n",
              "      <td>0.009740</td>\n",
              "      <td>0.027494</td>\n",
              "    </tr>\n",
              "    <tr>\n",
              "      <th>13</th>\n",
              "      <td>Brasil - SE</td>\n",
              "      <td>0.000114</td>\n",
              "      <td>0.000541</td>\n",
              "      <td>0.000162</td>\n",
              "    </tr>\n",
              "    <tr>\n",
              "      <th>14</th>\n",
              "      <td>Brasil - PE</td>\n",
              "      <td>0.005770</td>\n",
              "      <td>0.004329</td>\n",
              "      <td>0.009318</td>\n",
              "    </tr>\n",
              "    <tr>\n",
              "      <th>15</th>\n",
              "      <td>Brasil - CE</td>\n",
              "      <td>0.001282</td>\n",
              "      <td>0.006494</td>\n",
              "      <td>0.001911</td>\n",
              "    </tr>\n",
              "    <tr>\n",
              "      <th>16</th>\n",
              "      <td>Brasil - RN</td>\n",
              "      <td>0.000712</td>\n",
              "      <td>0.002165</td>\n",
              "      <td>0.000991</td>\n",
              "    </tr>\n",
              "    <tr>\n",
              "      <th>17</th>\n",
              "      <td>Brasil - RJ</td>\n",
              "      <td>0.062006</td>\n",
              "      <td>0.091991</td>\n",
              "      <td>0.082118</td>\n",
              "    </tr>\n",
              "    <tr>\n",
              "      <th>18</th>\n",
              "      <td>Brasil - MA</td>\n",
              "      <td>0.005571</td>\n",
              "      <td>0.000000</td>\n",
              "      <td>0.003866</td>\n",
              "    </tr>\n",
              "    <tr>\n",
              "      <th>19</th>\n",
              "      <td>Brasil - DF</td>\n",
              "      <td>0.011726</td>\n",
              "      <td>0.015693</td>\n",
              "      <td>0.010285</td>\n",
              "    </tr>\n",
              "    <tr>\n",
              "      <th>20</th>\n",
              "      <td>Brasil - PR</td>\n",
              "      <td>0.109294</td>\n",
              "      <td>0.188312</td>\n",
              "      <td>0.138042</td>\n",
              "    </tr>\n",
              "    <tr>\n",
              "      <th>21</th>\n",
              "      <td>Brasil - AM</td>\n",
              "      <td>0.000028</td>\n",
              "      <td>0.000000</td>\n",
              "      <td>0.000072</td>\n",
              "    </tr>\n",
              "    <tr>\n",
              "      <th>22</th>\n",
              "      <td>Brasil - AC</td>\n",
              "      <td>0.000000</td>\n",
              "      <td>0.000000</td>\n",
              "      <td>0.000000</td>\n",
              "    </tr>\n",
              "  </tbody>\n",
              "</table>\n",
              "</div>"
            ]
          },
          "metadata": {},
          "execution_count": 216
        }
      ]
    },
    {
      "cell_type": "code",
      "source": [
        "from pyspark.ml.feature import VectorAssembler\n",
        "\n",
        "vecAssembler = VectorAssembler(inputCols=[\"Clientes\",\"Vendedores\",\"Faturamento\"], outputCol=\"features\")\n",
        "new_df = vecAssembler.transform(analisecluster.to_spark())\n",
        "new_df.show()"
      ],
      "metadata": {
        "colab": {
          "base_uri": "https://localhost:8080/"
        },
        "id": "PpYotXPIB1Wa",
        "outputId": "c496f529-c717-430b-895d-918789da8266"
      },
      "execution_count": null,
      "outputs": [
        {
          "output_type": "stream",
          "name": "stderr",
          "text": [
            "spark-3.3.0-bin-hadoop2/python/pyspark/pandas/utils.py:975: PandasAPIOnSparkAdviceWarning: If `index_col` is not specified for `to_spark`, the existing index is lost when converting to Spark DataFrame.\n",
            "  warnings.warn(message, PandasAPIOnSparkAdviceWarning)\n"
          ]
        },
        {
          "output_type": "stream",
          "name": "stdout",
          "text": [
            "+-----------+--------------------+--------------------+-----------+--------------------+\n",
            "|     Estado|            Clientes|          Vendedores|Faturamento|            features|\n",
            "+-----------+--------------------+--------------------+-----------+--------------------+\n",
            "|Brasil - SC| 0.05223189479533247| 0.10227272727272728|0.066299612|[0.05223189479533...|\n",
            "|Brasil - RO|1.852194850898314...|5.411255411255411E-4| 3.92952E-4|[1.85219485089831...|\n",
            "|Brasil - PI|1.567241796913958...|                 0.0| 2.15697E-4|[1.56724179691395...|\n",
            "|Brasil - GO|0.006582415547038626|0.021103896103896104|0.008369413|[0.00658241554703...|\n",
            "|Brasil - MT|0.001937680767093...|0.001623376623376...|0.001745847|[0.00193768076709...|\n",
            "|Brasil - SP|                 1.0|                 1.0|        1.0|       [1.0,1.0,1.0]|\n",
            "|Brasil - PB|4.986678444726232E-4|0.002705627705627...|0.001518931|[4.98667844472623...|\n",
            "|Brasil - ES|0.004516505905652...|0.011904761904761904|0.005873188|[0.00451650590565...|\n",
            "|Brasil - RS|0.028324333566044996| 0.06926406926406926| 0.04188132|[0.02832433356604...|\n",
            "|Brasil - MS|6.838873295624546E-4|0.002164502164502...| 7.86876E-4|[6.83887329562454...|\n",
            "|Brasil - MG| 0.11296963825209796|  0.1314935064935065|0.117006346|[0.11296963825209...|\n",
            "|Brasil - PA|9.973356889452463E-5|                 0.0|  8.1747E-5|[9.97335688945246...|\n",
            "|Brasil - BA|0.008092666733155713| 0.00974025974025974|0.027493923|[0.00809266673315...|\n",
            "|Brasil - SE|1.139812215937424...|5.411255411255411E-4| 1.61923E-4|[1.13981221593742...|\n",
            "|Brasil - PE|0.005770299343183211|0.004329004329004329|0.009317688|[0.00577029934318...|\n",
            "|Brasil - CE|0.001282288742929...|0.006493506493506494|0.001910611|[0.00128228874292...|\n",
            "|Brasil - RN|7.123826349608902E-4|0.002164502164502...| 9.91205E-4|[7.12382634960890...|\n",
            "|Brasil - RJ| 0.06200578454699588| 0.09199134199134198|0.082117612|[0.06200578454699...|\n",
            "|Brasil - MA|0.005570832205394161|                 0.0|0.003866396|[0.00557083220539...|\n",
            "|Brasil - DF|0.011725818171456253|0.015692640692640692| 0.01028496|[0.01172581817145...|\n",
            "+-----------+--------------------+--------------------+-----------+--------------------+\n",
            "only showing top 20 rows\n",
            "\n"
          ]
        }
      ]
    },
    {
      "cell_type": "code",
      "source": [
        "from pyspark.ml.clustering import KMeans\n",
        "\n",
        "kmeans = KMeans(k=3, seed=1)  # 3 clusters here\n",
        "model = kmeans.fit(new_df.select('features'))"
      ],
      "metadata": {
        "id": "oOz1DjANCGy1"
      },
      "execution_count": null,
      "outputs": []
    },
    {
      "cell_type": "code",
      "source": [
        "from pyspark.sql.functions import format_number \n",
        "\n",
        "query_kmeans = model.transform(new_df)\n",
        "query_kmeans = query_kmeans.drop('features')\n",
        "query_kmeans = query_kmeans.withColumnRenamed(\"prediction\", \"cluster\")\n",
        "query_kmeans = query_kmeans.withColumn(\"Clientes\",format_number('Clientes',5))\n",
        "query_kmeans = query_kmeans.withColumn(\"Vendedores\",format_number('Vendedores',5))\n",
        "query_kmeans = query_kmeans.withColumn(\"Faturamento\",format_number('Faturamento',5))\n",
        "query_kmeans.show() "
      ],
      "metadata": {
        "colab": {
          "base_uri": "https://localhost:8080/"
        },
        "id": "SkupjIFDCKf6",
        "outputId": "6396f35e-303a-4836-f319-8e24925f9d99"
      },
      "execution_count": null,
      "outputs": [
        {
          "output_type": "stream",
          "name": "stdout",
          "text": [
            "+-----------+--------+----------+-----------+-------+\n",
            "|     Estado|Clientes|Vendedores|Faturamento|cluster|\n",
            "+-----------+--------+----------+-----------+-------+\n",
            "|Brasil - SC| 0.05223|   0.10227|    0.06630|      2|\n",
            "|Brasil - RO| 0.00019|   0.00054|    0.00039|      0|\n",
            "|Brasil - PI| 0.00016|   0.00000|    0.00022|      0|\n",
            "|Brasil - GO| 0.00658|   0.02110|    0.00837|      0|\n",
            "|Brasil - MT| 0.00194|   0.00162|    0.00175|      0|\n",
            "|Brasil - SP| 1.00000|   1.00000|    1.00000|      1|\n",
            "|Brasil - PB| 0.00050|   0.00271|    0.00152|      0|\n",
            "|Brasil - ES| 0.00452|   0.01190|    0.00587|      0|\n",
            "|Brasil - RS| 0.02832|   0.06926|    0.04188|      0|\n",
            "|Brasil - MS| 0.00068|   0.00216|    0.00079|      0|\n",
            "|Brasil - MG| 0.11297|   0.13149|    0.11701|      2|\n",
            "|Brasil - PA| 0.00010|   0.00000|    0.00008|      0|\n",
            "|Brasil - BA| 0.00809|   0.00974|    0.02749|      0|\n",
            "|Brasil - SE| 0.00011|   0.00054|    0.00016|      0|\n",
            "|Brasil - PE| 0.00577|   0.00433|    0.00932|      0|\n",
            "|Brasil - CE| 0.00128|   0.00649|    0.00191|      0|\n",
            "|Brasil - RN| 0.00071|   0.00216|    0.00099|      0|\n",
            "|Brasil - RJ| 0.06201|   0.09199|    0.08212|      2|\n",
            "|Brasil - MA| 0.00557|   0.00000|    0.00387|      0|\n",
            "|Brasil - DF| 0.01173|   0.01569|    0.01028|      0|\n",
            "+-----------+--------+----------+-----------+-------+\n",
            "only showing top 20 rows\n",
            "\n"
          ]
        }
      ]
    },
    {
      "cell_type": "code",
      "source": [
        "print(analise[\"Clientes\"].sum()) "
      ],
      "metadata": {
        "colab": {
          "base_uri": "https://localhost:8080/"
        },
        "id": "HyJCZfGIedIk",
        "outputId": "526b2457-94b2-4ae7-f6af-02137f83cfee"
      },
      "execution_count": null,
      "outputs": [
        {
          "output_type": "stream",
          "name": "stdout",
          "text": [
            "99182\n"
          ]
        }
      ]
    },
    {
      "cell_type": "code",
      "source": [
        "print(analise[\"Vendedores\"].sum()) "
      ],
      "metadata": {
        "id": "pe62hWcEGktF",
        "colab": {
          "base_uri": "https://localhost:8080/"
        },
        "outputId": "f5cb49d2-9b39-4b17-f7e7-be9616ba9b79"
      },
      "execution_count": null,
      "outputs": [
        {
          "output_type": "stream",
          "name": "stdout",
          "text": [
            "3095\n"
          ]
        }
      ]
    },
    {
      "cell_type": "code",
      "source": [
        "print(analise[\"Faturamento\"].sum())"
      ],
      "metadata": {
        "id": "E9fHr0lSGqTl",
        "colab": {
          "base_uri": "https://localhost:8080/"
        },
        "outputId": "245b1fb6-580c-4e6d-e59d-e30c59771f7f"
      },
      "execution_count": null,
      "outputs": [
        {
          "output_type": "stream",
          "name": "stdout",
          "text": [
            "20309206\n"
          ]
        }
      ]
    },
    {
      "cell_type": "code",
      "source": [
        "analise"
      ],
      "metadata": {
        "colab": {
          "base_uri": "https://localhost:8080/",
          "height": 771
        },
        "id": "rsEHMdJQG2Mb",
        "outputId": "5ab9164d-0e12-4707-fb54-983d3ab4a48c"
      },
      "execution_count": null,
      "outputs": [
        {
          "output_type": "execute_result",
          "data": {
            "text/plain": [
              "         Estado  Clientes  Vendedores Faturamento\n",
              "0   Brasil - SC      3667         190      886765\n",
              "1   Brasil - RO        14           2        5554\n",
              "2   Brasil - PI        12           1        3184\n",
              "3   Brasil - GO       463          40      112204\n",
              "4   Brasil - MT       137           4       23643\n",
              "5   Brasil - SP     70188        1849    13370891\n",
              "6   Brasil - PB        36           6       20609\n",
              "7   Brasil - ES       318          23       78828\n",
              "8   Brasil - RS      1989         129      560278\n",
              "9   Brasil - MS        49           5       10821\n",
              "10  Brasil - MG      7930         244     1564744\n",
              "11  Brasil - PA         8           1        1393\n",
              "12  Brasil - BA       569          19      367910\n",
              "13  Brasil - SE         9           2        2465\n",
              "14  Brasil - PE       406           9      124883\n",
              "15  Brasil - CE        91          13       25846\n",
              "16  Brasil - RN        51           5       13553\n",
              "17  Brasil - RJ      4353         171     1098261\n",
              "18  Brasil - MA       392           1       51996\n",
              "19  Brasil - DF       824          30      137816\n",
              "20  Brasil - PR      7672         349     1846004\n",
              "21  Brasil - AM         3           1        1258\n",
              "22  Brasil - AC         1           1         300"
            ],
            "text/html": [
              "<div>\n",
              "<style scoped>\n",
              "    .dataframe tbody tr th:only-of-type {\n",
              "        vertical-align: middle;\n",
              "    }\n",
              "\n",
              "    .dataframe tbody tr th {\n",
              "        vertical-align: top;\n",
              "    }\n",
              "\n",
              "    .dataframe thead th {\n",
              "        text-align: right;\n",
              "    }\n",
              "</style>\n",
              "<table border=\"1\" class=\"dataframe\">\n",
              "  <thead>\n",
              "    <tr style=\"text-align: right;\">\n",
              "      <th></th>\n",
              "      <th>Estado</th>\n",
              "      <th>Clientes</th>\n",
              "      <th>Vendedores</th>\n",
              "      <th>Faturamento</th>\n",
              "    </tr>\n",
              "  </thead>\n",
              "  <tbody>\n",
              "    <tr>\n",
              "      <th>0</th>\n",
              "      <td>Brasil - SC</td>\n",
              "      <td>3667</td>\n",
              "      <td>190</td>\n",
              "      <td>886765</td>\n",
              "    </tr>\n",
              "    <tr>\n",
              "      <th>1</th>\n",
              "      <td>Brasil - RO</td>\n",
              "      <td>14</td>\n",
              "      <td>2</td>\n",
              "      <td>5554</td>\n",
              "    </tr>\n",
              "    <tr>\n",
              "      <th>2</th>\n",
              "      <td>Brasil - PI</td>\n",
              "      <td>12</td>\n",
              "      <td>1</td>\n",
              "      <td>3184</td>\n",
              "    </tr>\n",
              "    <tr>\n",
              "      <th>3</th>\n",
              "      <td>Brasil - GO</td>\n",
              "      <td>463</td>\n",
              "      <td>40</td>\n",
              "      <td>112204</td>\n",
              "    </tr>\n",
              "    <tr>\n",
              "      <th>4</th>\n",
              "      <td>Brasil - MT</td>\n",
              "      <td>137</td>\n",
              "      <td>4</td>\n",
              "      <td>23643</td>\n",
              "    </tr>\n",
              "    <tr>\n",
              "      <th>5</th>\n",
              "      <td>Brasil - SP</td>\n",
              "      <td>70188</td>\n",
              "      <td>1849</td>\n",
              "      <td>13370891</td>\n",
              "    </tr>\n",
              "    <tr>\n",
              "      <th>6</th>\n",
              "      <td>Brasil - PB</td>\n",
              "      <td>36</td>\n",
              "      <td>6</td>\n",
              "      <td>20609</td>\n",
              "    </tr>\n",
              "    <tr>\n",
              "      <th>7</th>\n",
              "      <td>Brasil - ES</td>\n",
              "      <td>318</td>\n",
              "      <td>23</td>\n",
              "      <td>78828</td>\n",
              "    </tr>\n",
              "    <tr>\n",
              "      <th>8</th>\n",
              "      <td>Brasil - RS</td>\n",
              "      <td>1989</td>\n",
              "      <td>129</td>\n",
              "      <td>560278</td>\n",
              "    </tr>\n",
              "    <tr>\n",
              "      <th>9</th>\n",
              "      <td>Brasil - MS</td>\n",
              "      <td>49</td>\n",
              "      <td>5</td>\n",
              "      <td>10821</td>\n",
              "    </tr>\n",
              "    <tr>\n",
              "      <th>10</th>\n",
              "      <td>Brasil - MG</td>\n",
              "      <td>7930</td>\n",
              "      <td>244</td>\n",
              "      <td>1564744</td>\n",
              "    </tr>\n",
              "    <tr>\n",
              "      <th>11</th>\n",
              "      <td>Brasil - PA</td>\n",
              "      <td>8</td>\n",
              "      <td>1</td>\n",
              "      <td>1393</td>\n",
              "    </tr>\n",
              "    <tr>\n",
              "      <th>12</th>\n",
              "      <td>Brasil - BA</td>\n",
              "      <td>569</td>\n",
              "      <td>19</td>\n",
              "      <td>367910</td>\n",
              "    </tr>\n",
              "    <tr>\n",
              "      <th>13</th>\n",
              "      <td>Brasil - SE</td>\n",
              "      <td>9</td>\n",
              "      <td>2</td>\n",
              "      <td>2465</td>\n",
              "    </tr>\n",
              "    <tr>\n",
              "      <th>14</th>\n",
              "      <td>Brasil - PE</td>\n",
              "      <td>406</td>\n",
              "      <td>9</td>\n",
              "      <td>124883</td>\n",
              "    </tr>\n",
              "    <tr>\n",
              "      <th>15</th>\n",
              "      <td>Brasil - CE</td>\n",
              "      <td>91</td>\n",
              "      <td>13</td>\n",
              "      <td>25846</td>\n",
              "    </tr>\n",
              "    <tr>\n",
              "      <th>16</th>\n",
              "      <td>Brasil - RN</td>\n",
              "      <td>51</td>\n",
              "      <td>5</td>\n",
              "      <td>13553</td>\n",
              "    </tr>\n",
              "    <tr>\n",
              "      <th>17</th>\n",
              "      <td>Brasil - RJ</td>\n",
              "      <td>4353</td>\n",
              "      <td>171</td>\n",
              "      <td>1098261</td>\n",
              "    </tr>\n",
              "    <tr>\n",
              "      <th>18</th>\n",
              "      <td>Brasil - MA</td>\n",
              "      <td>392</td>\n",
              "      <td>1</td>\n",
              "      <td>51996</td>\n",
              "    </tr>\n",
              "    <tr>\n",
              "      <th>19</th>\n",
              "      <td>Brasil - DF</td>\n",
              "      <td>824</td>\n",
              "      <td>30</td>\n",
              "      <td>137816</td>\n",
              "    </tr>\n",
              "    <tr>\n",
              "      <th>20</th>\n",
              "      <td>Brasil - PR</td>\n",
              "      <td>7672</td>\n",
              "      <td>349</td>\n",
              "      <td>1846004</td>\n",
              "    </tr>\n",
              "    <tr>\n",
              "      <th>21</th>\n",
              "      <td>Brasil - AM</td>\n",
              "      <td>3</td>\n",
              "      <td>1</td>\n",
              "      <td>1258</td>\n",
              "    </tr>\n",
              "    <tr>\n",
              "      <th>22</th>\n",
              "      <td>Brasil - AC</td>\n",
              "      <td>1</td>\n",
              "      <td>1</td>\n",
              "      <td>300</td>\n",
              "    </tr>\n",
              "  </tbody>\n",
              "</table>\n",
              "</div>"
            ]
          },
          "metadata": {},
          "execution_count": 27
        }
      ]
    },
    {
      "cell_type": "code",
      "source": [
        "analise.describe()"
      ],
      "metadata": {
        "colab": {
          "base_uri": "https://localhost:8080/",
          "height": 300
        },
        "id": "kPSjCKPzG86d",
        "outputId": "4edb19d3-e914-4f14-98cc-cc167136a47a"
      },
      "execution_count": null,
      "outputs": [
        {
          "output_type": "execute_result",
          "data": {
            "text/plain": [
              "           Clientes   Vendedores   Faturamento\n",
              "count     23.000000    23.000000  2.300000e+01\n",
              "mean    4312.260870   134.565217  8.830090e+05\n",
              "std    14551.512515   385.498240  2.773278e+06\n",
              "min        1.000000     1.000000  3.000000e+02\n",
              "25%       14.000000     2.000000  5.554000e+03\n",
              "50%      318.000000     9.000000  5.199600e+04\n",
              "75%     1989.000000   129.000000  5.602780e+05\n",
              "max    70188.000000  1849.000000  1.337089e+07"
            ],
            "text/html": [
              "<div>\n",
              "<style scoped>\n",
              "    .dataframe tbody tr th:only-of-type {\n",
              "        vertical-align: middle;\n",
              "    }\n",
              "\n",
              "    .dataframe tbody tr th {\n",
              "        vertical-align: top;\n",
              "    }\n",
              "\n",
              "    .dataframe thead th {\n",
              "        text-align: right;\n",
              "    }\n",
              "</style>\n",
              "<table border=\"1\" class=\"dataframe\">\n",
              "  <thead>\n",
              "    <tr style=\"text-align: right;\">\n",
              "      <th></th>\n",
              "      <th>Clientes</th>\n",
              "      <th>Vendedores</th>\n",
              "      <th>Faturamento</th>\n",
              "    </tr>\n",
              "  </thead>\n",
              "  <tbody>\n",
              "    <tr>\n",
              "      <th>count</th>\n",
              "      <td>23.000000</td>\n",
              "      <td>23.000000</td>\n",
              "      <td>2.300000e+01</td>\n",
              "    </tr>\n",
              "    <tr>\n",
              "      <th>mean</th>\n",
              "      <td>4312.260870</td>\n",
              "      <td>134.565217</td>\n",
              "      <td>8.830090e+05</td>\n",
              "    </tr>\n",
              "    <tr>\n",
              "      <th>std</th>\n",
              "      <td>14551.512515</td>\n",
              "      <td>385.498240</td>\n",
              "      <td>2.773278e+06</td>\n",
              "    </tr>\n",
              "    <tr>\n",
              "      <th>min</th>\n",
              "      <td>1.000000</td>\n",
              "      <td>1.000000</td>\n",
              "      <td>3.000000e+02</td>\n",
              "    </tr>\n",
              "    <tr>\n",
              "      <th>25%</th>\n",
              "      <td>14.000000</td>\n",
              "      <td>2.000000</td>\n",
              "      <td>5.554000e+03</td>\n",
              "    </tr>\n",
              "    <tr>\n",
              "      <th>50%</th>\n",
              "      <td>318.000000</td>\n",
              "      <td>9.000000</td>\n",
              "      <td>5.199600e+04</td>\n",
              "    </tr>\n",
              "    <tr>\n",
              "      <th>75%</th>\n",
              "      <td>1989.000000</td>\n",
              "      <td>129.000000</td>\n",
              "      <td>5.602780e+05</td>\n",
              "    </tr>\n",
              "    <tr>\n",
              "      <th>max</th>\n",
              "      <td>70188.000000</td>\n",
              "      <td>1849.000000</td>\n",
              "      <td>1.337089e+07</td>\n",
              "    </tr>\n",
              "  </tbody>\n",
              "</table>\n",
              "</div>"
            ]
          },
          "metadata": {},
          "execution_count": 28
        }
      ]
    },
    {
      "cell_type": "code",
      "source": [
        "def analisar_coluna(coluna_nome): #criamos uma classefuncao para analisar cada coluna e reduzir o codigo\n",
        "        coluna = coluna_nome\n",
        "        media = analise[coluna_nome].mean()\n",
        "        mediana = analise[coluna_nome].median()\n",
        "        primeiro_quartil = analise[coluna_nome].quantile(.25)\n",
        "        segundo_quartil = analise[coluna_nome].quantile(.50)\n",
        "        terceiro_quartil = analise[coluna_nome].quantile(.75)\n",
        "        quarto_quartil = analise[coluna_nome].quantile(1.0)\n",
        "        desvio_padrao = analise[coluna_nome].std()\n",
        "        maximo = analise[coluna_nome].max()\n",
        "        minimo = analise[coluna_nome].min()\n",
        "        Analise = (coluna, media, mediana, primeiro_quartil, segundo_quartil, terceiro_quartil, quarto_quartil, desvio_padrao, maximo, minimo)\n",
        "        return Analise"
      ],
      "metadata": {
        "id": "rNR7ad-pHAKX"
      },
      "execution_count": null,
      "outputs": []
    },
    {
      "cell_type": "code",
      "source": [
        "analise_Clientes = analisar_coluna(\"Clientes\")"
      ],
      "metadata": {
        "id": "NQRd_5OrM_l4"
      },
      "execution_count": null,
      "outputs": []
    },
    {
      "cell_type": "code",
      "source": [
        "analise_Vendedores = analisar_coluna(\"Vendedores\")"
      ],
      "metadata": {
        "id": "q6t8jH53W0oE"
      },
      "execution_count": null,
      "outputs": []
    },
    {
      "cell_type": "code",
      "source": [
        "analise_Faturamento = analisar_coluna(\"Faturamento\")"
      ],
      "metadata": {
        "id": "i-bGwnQ9UzSY"
      },
      "execution_count": null,
      "outputs": []
    },
    {
      "cell_type": "code",
      "source": [
        "from pyspark.sql.types import StructType,StructField, StringType"
      ],
      "metadata": {
        "id": "Gz34N_-rMikb"
      },
      "execution_count": null,
      "outputs": []
    },
    {
      "cell_type": "code",
      "source": [
        "data = [(analise_Clientes), (analise_Vendedores), (analise_Faturamento)]\n",
        "\n",
        "columns = StructType([ \\\n",
        "StructField(\"coluna\",StringType(),True), \\\n",
        "StructField(\"media\",StringType(),True), \\\n",
        "StructField(\"mediana\",StringType(),True), \\\n",
        "StructField(\"primeiro_quartil\",StringType(),True), \\\n",
        "StructField(\"segundo_quartil\", StringType(), True), \\\n",
        "StructField(\"terceiro_quartil\", StringType(), True), \\\n",
        "StructField(\"quarto_quartil\", StringType(), True), \\\n",
        "StructField(\"desvio_padrao\", StringType(), True), \\\n",
        "StructField(\"maximo\", StringType(), True), \\\n",
        "StructField(\"minimo\", StringType(), True) \\\n",
        "  ])"
      ],
      "metadata": {
        "id": "YZy378bEzcjk"
      },
      "execution_count": null,
      "outputs": []
    },
    {
      "cell_type": "code",
      "source": [
        "spark2 = SparkSession.builder.master(\"local[*]\").appName(\"AnalisExploratória\").getOrCreate()\n",
        "sdf = spark2.createDataFrame(data=data,schema = columns)"
      ],
      "metadata": {
        "id": "CFDJhB7yh2w3"
      },
      "execution_count": null,
      "outputs": []
    },
    {
      "cell_type": "code",
      "source": [
        "sdf.createOrReplaceTempView(\"sdf\")"
      ],
      "metadata": {
        "id": "HiGbrT4ZirSl"
      },
      "execution_count": null,
      "outputs": []
    },
    {
      "cell_type": "code",
      "source": [
        "queryanalise=spark.sql(\"select coluna as coluna, round(media,2) as media,mediana,primeiro_quartil,segundo_quartil,terceiro_quartil,round(cast(quarto_quartil as decimal),2) as quarto_quartil,round(desvio_padrao,2) as desvio_padrao,maximo,minimo from sdf\")"
      ],
      "metadata": {
        "id": "P3jwLE5wnsS5"
      },
      "execution_count": null,
      "outputs": []
    },
    {
      "cell_type": "code",
      "source": [
        "export_csv = queryanalise\n",
        "export_csv.show(100,False)"
      ],
      "metadata": {
        "colab": {
          "base_uri": "https://localhost:8080/"
        },
        "id": "_cj2Eu4gnvmp",
        "outputId": "a27f1202-d45e-4a82-a2d7-c476751ea15c"
      },
      "execution_count": null,
      "outputs": [
        {
          "output_type": "stream",
          "name": "stdout",
          "text": [
            "+-----------+---------+-------+----------------+---------------+----------------+--------------+-------------+--------+------+\n",
            "|coluna     |media    |mediana|primeiro_quartil|segundo_quartil|terceiro_quartil|quarto_quartil|desvio_padrao|maximo  |minimo|\n",
            "+-----------+---------+-------+----------------+---------------+----------------+--------------+-------------+--------+------+\n",
            "|Clientes   |4312.26  |318.0  |14.0            |318.0          |1989.0          |70188         |14551.51     |70188   |1     |\n",
            "|Vendedores |134.57   |9.0    |2.0             |9.0            |129.0           |1849          |385.5        |1849    |1     |\n",
            "|Faturamento|883008.96|51996.0|5554.0          |51996.0        |560278.0        |13370891      |2773278.07   |13370891|300   |\n",
            "+-----------+---------+-------+----------------+---------------+----------------+--------------+-------------+--------+------+\n",
            "\n"
          ]
        }
      ]
    },
    {
      "cell_type": "code",
      "source": [
        "export_csv.toPandas().to_csv(\"OlistAnaliseExploratoria.csv\", index=False, sep=':')"
      ],
      "metadata": {
        "id": "M0sUEeq_nw80"
      },
      "execution_count": null,
      "outputs": []
    },
    {
      "cell_type": "code",
      "source": [
        "from google.colab import files\n",
        "files.download(\"OlistAnaliseExploratoria.csv\")"
      ],
      "metadata": {
        "colab": {
          "base_uri": "https://localhost:8080/",
          "height": 17
        },
        "id": "A7xFkk9Mn1pf",
        "outputId": "ff48d04c-99a1-4ac4-8f8c-0460a5ed75fa"
      },
      "execution_count": null,
      "outputs": [
        {
          "output_type": "display_data",
          "data": {
            "text/plain": [
              "<IPython.core.display.Javascript object>"
            ],
            "application/javascript": [
              "\n",
              "    async function download(id, filename, size) {\n",
              "      if (!google.colab.kernel.accessAllowed) {\n",
              "        return;\n",
              "      }\n",
              "      const div = document.createElement('div');\n",
              "      const label = document.createElement('label');\n",
              "      label.textContent = `Downloading \"${filename}\": `;\n",
              "      div.appendChild(label);\n",
              "      const progress = document.createElement('progress');\n",
              "      progress.max = size;\n",
              "      div.appendChild(progress);\n",
              "      document.body.appendChild(div);\n",
              "\n",
              "      const buffers = [];\n",
              "      let downloaded = 0;\n",
              "\n",
              "      const channel = await google.colab.kernel.comms.open(id);\n",
              "      // Send a message to notify the kernel that we're ready.\n",
              "      channel.send({})\n",
              "\n",
              "      for await (const message of channel.messages) {\n",
              "        // Send a message to notify the kernel that we're ready.\n",
              "        channel.send({})\n",
              "        if (message.buffers) {\n",
              "          for (const buffer of message.buffers) {\n",
              "            buffers.push(buffer);\n",
              "            downloaded += buffer.byteLength;\n",
              "            progress.value = downloaded;\n",
              "          }\n",
              "        }\n",
              "      }\n",
              "      const blob = new Blob(buffers, {type: 'application/binary'});\n",
              "      const a = document.createElement('a');\n",
              "      a.href = window.URL.createObjectURL(blob);\n",
              "      a.download = filename;\n",
              "      div.appendChild(a);\n",
              "      a.click();\n",
              "      div.remove();\n",
              "    }\n",
              "  "
            ]
          },
          "metadata": {}
        },
        {
          "output_type": "display_data",
          "data": {
            "text/plain": [
              "<IPython.core.display.Javascript object>"
            ],
            "application/javascript": [
              "download(\"download_1bdd0566-ebe0-4516-8a68-680f43fc04b5\", \"OlistAnaliseExploratoria.csv\", 319)"
            ]
          },
          "metadata": {}
        }
      ]
    },
    {
      "cell_type": "code",
      "source": [
        "export_csv = queryregiao\n",
        "export_csv.show(100,False)"
      ],
      "metadata": {
        "id": "ynLPXCEmn3lW",
        "colab": {
          "base_uri": "https://localhost:8080/"
        },
        "outputId": "d8e58f1a-c6a2-41e4-c834-a16f823dcc9f"
      },
      "execution_count": null,
      "outputs": [
        {
          "output_type": "stream",
          "name": "stdout",
          "text": [
            "+-----------+--------+----------+-----------+\n",
            "|Estado     |Clientes|Vendedores|Faturamento|\n",
            "+-----------+--------+----------+-----------+\n",
            "|Brasil - SC|3667    |190       |886765     |\n",
            "|Brasil - RO|14      |2         |5554       |\n",
            "|Brasil - PI|12      |1         |3184       |\n",
            "|Brasil - GO|463     |40        |112204     |\n",
            "|Brasil - MT|137     |4         |23643      |\n",
            "|Brasil - SP|70188   |1849      |13370891   |\n",
            "|Brasil - PB|36      |6         |20609      |\n",
            "|Brasil - ES|318     |23        |78828      |\n",
            "|Brasil - RS|1989    |129       |560278     |\n",
            "|Brasil - MS|49      |5         |10821      |\n",
            "|Brasil - MG|7930    |244       |1564744    |\n",
            "|Brasil - PA|8       |1         |1393       |\n",
            "|Brasil - BA|569     |19        |367910     |\n",
            "|Brasil - SE|9       |2         |2465       |\n",
            "|Brasil - PE|406     |9         |124883     |\n",
            "|Brasil - CE|91      |13        |25846      |\n",
            "|Brasil - RN|51      |5         |13553      |\n",
            "|Brasil - RJ|4353    |171       |1098261    |\n",
            "|Brasil - MA|392     |1         |51996      |\n",
            "|Brasil - DF|824     |30        |137816     |\n",
            "|Brasil - PR|7672    |349       |1846004    |\n",
            "|Brasil - AM|3       |1         |1258       |\n",
            "|Brasil - AC|1       |1         |300        |\n",
            "+-----------+--------+----------+-----------+\n",
            "\n"
          ]
        }
      ]
    },
    {
      "cell_type": "code",
      "source": [
        "export_csv.toPandas().to_csv(\"OlistAnaliseregiao.csv\", index=False, sep=':')"
      ],
      "metadata": {
        "id": "cVXqPc_0cMh0"
      },
      "execution_count": null,
      "outputs": []
    },
    {
      "cell_type": "code",
      "source": [
        "files.download(\"OlistAnaliseregiao.csv\")"
      ],
      "metadata": {
        "colab": {
          "base_uri": "https://localhost:8080/",
          "height": 17
        },
        "id": "v-Q0lUneqNuV",
        "outputId": "01357cc8-12f8-469b-ed86-8ca90055cc66"
      },
      "execution_count": null,
      "outputs": [
        {
          "output_type": "display_data",
          "data": {
            "text/plain": [
              "<IPython.core.display.Javascript object>"
            ],
            "application/javascript": [
              "\n",
              "    async function download(id, filename, size) {\n",
              "      if (!google.colab.kernel.accessAllowed) {\n",
              "        return;\n",
              "      }\n",
              "      const div = document.createElement('div');\n",
              "      const label = document.createElement('label');\n",
              "      label.textContent = `Downloading \"${filename}\": `;\n",
              "      div.appendChild(label);\n",
              "      const progress = document.createElement('progress');\n",
              "      progress.max = size;\n",
              "      div.appendChild(progress);\n",
              "      document.body.appendChild(div);\n",
              "\n",
              "      const buffers = [];\n",
              "      let downloaded = 0;\n",
              "\n",
              "      const channel = await google.colab.kernel.comms.open(id);\n",
              "      // Send a message to notify the kernel that we're ready.\n",
              "      channel.send({})\n",
              "\n",
              "      for await (const message of channel.messages) {\n",
              "        // Send a message to notify the kernel that we're ready.\n",
              "        channel.send({})\n",
              "        if (message.buffers) {\n",
              "          for (const buffer of message.buffers) {\n",
              "            buffers.push(buffer);\n",
              "            downloaded += buffer.byteLength;\n",
              "            progress.value = downloaded;\n",
              "          }\n",
              "        }\n",
              "      }\n",
              "      const blob = new Blob(buffers, {type: 'application/binary'});\n",
              "      const a = document.createElement('a');\n",
              "      a.href = window.URL.createObjectURL(blob);\n",
              "      a.download = filename;\n",
              "      div.appendChild(a);\n",
              "      a.click();\n",
              "      div.remove();\n",
              "    }\n",
              "  "
            ]
          },
          "metadata": {}
        },
        {
          "output_type": "display_data",
          "data": {
            "text/plain": [
              "<IPython.core.display.Javascript object>"
            ],
            "application/javascript": [
              "download(\"download_97b1c458-c3cd-4102-ac3f-0bfd6bc39eff\", \"OlistAnaliseregiao.csv\", 610)"
            ]
          },
          "metadata": {}
        }
      ]
    },
    {
      "cell_type": "code",
      "source": [
        "export_csv = query_kmeans\n",
        "export_csv.show(100,False)"
      ],
      "metadata": {
        "colab": {
          "base_uri": "https://localhost:8080/"
        },
        "id": "P5qgNjceEizq",
        "outputId": "81f72c81-d904-4195-b4c3-1b3495f5dab3"
      },
      "execution_count": null,
      "outputs": [
        {
          "output_type": "stream",
          "name": "stdout",
          "text": [
            "+-----------+--------+----------+-----------+-------+\n",
            "|Estado     |Clientes|Vendedores|Faturamento|cluster|\n",
            "+-----------+--------+----------+-----------+-------+\n",
            "|Brasil - SC|0.05223 |0.10227   |0.06630    |2      |\n",
            "|Brasil - RO|0.00019 |0.00054   |0.00039    |0      |\n",
            "|Brasil - PI|0.00016 |0.00000   |0.00022    |0      |\n",
            "|Brasil - GO|0.00658 |0.02110   |0.00837    |0      |\n",
            "|Brasil - MT|0.00194 |0.00162   |0.00175    |0      |\n",
            "|Brasil - SP|1.00000 |1.00000   |1.00000    |1      |\n",
            "|Brasil - PB|0.00050 |0.00271   |0.00152    |0      |\n",
            "|Brasil - ES|0.00452 |0.01190   |0.00587    |0      |\n",
            "|Brasil - RS|0.02832 |0.06926   |0.04188    |0      |\n",
            "|Brasil - MS|0.00068 |0.00216   |0.00079    |0      |\n",
            "|Brasil - MG|0.11297 |0.13149   |0.11701    |2      |\n",
            "|Brasil - PA|0.00010 |0.00000   |0.00008    |0      |\n",
            "|Brasil - BA|0.00809 |0.00974   |0.02749    |0      |\n",
            "|Brasil - SE|0.00011 |0.00054   |0.00016    |0      |\n",
            "|Brasil - PE|0.00577 |0.00433   |0.00932    |0      |\n",
            "|Brasil - CE|0.00128 |0.00649   |0.00191    |0      |\n",
            "|Brasil - RN|0.00071 |0.00216   |0.00099    |0      |\n",
            "|Brasil - RJ|0.06201 |0.09199   |0.08212    |2      |\n",
            "|Brasil - MA|0.00557 |0.00000   |0.00387    |0      |\n",
            "|Brasil - DF|0.01173 |0.01569   |0.01028    |0      |\n",
            "|Brasil - PR|0.10929 |0.18831   |0.13804    |2      |\n",
            "|Brasil - AM|0.00003 |0.00000   |0.00007    |0      |\n",
            "|Brasil - AC|0.00000 |0.00000   |0.00000    |0      |\n",
            "+-----------+--------+----------+-----------+-------+\n",
            "\n"
          ]
        }
      ]
    },
    {
      "cell_type": "code",
      "source": [
        "export_csv.toPandas().to_csv(\"OlistClusters.csv\", index=False , sep=':')"
      ],
      "metadata": {
        "id": "fmIIFSl-E5EE"
      },
      "execution_count": null,
      "outputs": []
    },
    {
      "cell_type": "code",
      "source": [
        "files.download(\"OlistClusters.csv\")"
      ],
      "metadata": {
        "colab": {
          "base_uri": "https://localhost:8080/",
          "height": 17
        },
        "id": "0KVvOmwGFBFl",
        "outputId": "59f930d6-57f3-4a4f-d969-aa5135db990a"
      },
      "execution_count": null,
      "outputs": [
        {
          "output_type": "display_data",
          "data": {
            "text/plain": [
              "<IPython.core.display.Javascript object>"
            ],
            "application/javascript": [
              "\n",
              "    async function download(id, filename, size) {\n",
              "      if (!google.colab.kernel.accessAllowed) {\n",
              "        return;\n",
              "      }\n",
              "      const div = document.createElement('div');\n",
              "      const label = document.createElement('label');\n",
              "      label.textContent = `Downloading \"${filename}\": `;\n",
              "      div.appendChild(label);\n",
              "      const progress = document.createElement('progress');\n",
              "      progress.max = size;\n",
              "      div.appendChild(progress);\n",
              "      document.body.appendChild(div);\n",
              "\n",
              "      const buffers = [];\n",
              "      let downloaded = 0;\n",
              "\n",
              "      const channel = await google.colab.kernel.comms.open(id);\n",
              "      // Send a message to notify the kernel that we're ready.\n",
              "      channel.send({})\n",
              "\n",
              "      for await (const message of channel.messages) {\n",
              "        // Send a message to notify the kernel that we're ready.\n",
              "        channel.send({})\n",
              "        if (message.buffers) {\n",
              "          for (const buffer of message.buffers) {\n",
              "            buffers.push(buffer);\n",
              "            downloaded += buffer.byteLength;\n",
              "            progress.value = downloaded;\n",
              "          }\n",
              "        }\n",
              "      }\n",
              "      const blob = new Blob(buffers, {type: 'application/binary'});\n",
              "      const a = document.createElement('a');\n",
              "      a.href = window.URL.createObjectURL(blob);\n",
              "      a.download = filename;\n",
              "      div.appendChild(a);\n",
              "      a.click();\n",
              "      div.remove();\n",
              "    }\n",
              "  "
            ]
          },
          "metadata": {}
        },
        {
          "output_type": "display_data",
          "data": {
            "text/plain": [
              "<IPython.core.display.Javascript object>"
            ],
            "application/javascript": [
              "download(\"download_d5d93bad-8a8b-4135-a933-93a6521cd866\", \"OlistClusters.csv\", 921)"
            ]
          },
          "metadata": {}
        }
      ]
    }
  ]
}